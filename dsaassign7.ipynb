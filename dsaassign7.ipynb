{
 "cells": [
  {
   "cell_type": "markdown",
   "id": "f0c73a60-eb8e-43fd-b1d2-a3f3739b9ceb",
   "metadata": {},
   "source": [
    "Given two strings s and t, *determine if they are isomorphic*.\n",
    "\n",
    "Two strings s and t are isomorphic if the characters in s can be replaced to get t.\n",
    "\n",
    "All occurrences of a character must be replaced with another character while preserving the order of characters. No two characters may map to the same character, but a character may map to itself.\n",
    "\n",
    "**Example 1:**\n",
    "\n",
    "**Input:** s = \"egg\", t = \"add\"\n",
    "\n",
    "**Output:** true"
   ]
  },
  {
   "cell_type": "code",
   "execution_count": 1,
   "id": "3a5e407c-a283-4cea-bfa0-1836c2174634",
   "metadata": {},
   "outputs": [
    {
     "name": "stdout",
     "output_type": "stream",
     "text": [
      "True\n",
      "False\n",
      "True\n"
     ]
    }
   ],
   "source": [
    "def isomorphic_strings(s, t):\n",
    "    if len(s) != len(t):\n",
    "        return False\n",
    "\n",
    "    char_map = {}  \n",
    "\n",
    "    for i in range(len(s)):\n",
    "        if s[i] in char_map: \n",
    "            if char_map[s[i]] != t[i]: \n",
    "                return False\n",
    "        else:\n",
    "            if t[i] in char_map.values():  \n",
    "                return False\n",
    "            char_map[s[i]] = t[i] \n",
    "\n",
    "    return True \n",
    "\n",
    "# Testing the function\n",
    "s = \"egg\"\n",
    "t = \"add\"\n",
    "print(isomorphic_strings(s, t)) \n",
    "\n",
    "s = \"foo\"\n",
    "t = \"bar\"\n",
    "print(isomorphic_strings(s, t))  \n",
    "\n",
    "s = \"paper\"\n",
    "t = \"title\"\n",
    "print(isomorphic_strings(s, t)) \n"
   ]
  },
  {
   "cell_type": "code",
   "execution_count": null,
   "id": "66d9ac77-b41c-4f55-b6b9-3a9cc23fdd8a",
   "metadata": {},
   "outputs": [],
   "source": []
  },
  {
   "cell_type": "markdown",
   "id": "4e222459-b278-49e9-a9ed-460de2444ecd",
   "metadata": {},
   "source": [
    "Given a string num which represents an integer, return true *if* num *is a **strobogrammatic number***.\n",
    "\n",
    "A **strobogrammatic number** is a number that looks the same when rotated 180 degrees (looked at upside down).\n",
    "\n",
    "**Example 1:**\n",
    "\n",
    "**Input:** num = \"69\"\n",
    "\n",
    "**Output:**\n",
    "\n",
    "true"
   ]
  },
  {
   "cell_type": "code",
   "execution_count": 2,
   "id": "1bb44f63-a28c-4914-8f8f-0c6e767c08cc",
   "metadata": {},
   "outputs": [
    {
     "name": "stdout",
     "output_type": "stream",
     "text": [
      "True\n",
      "True\n",
      "False\n"
     ]
    }
   ],
   "source": [
    "def is_strobogrammatic(num):\n",
    "    strobogrammatic_map = {\n",
    "        '0': '0',\n",
    "        '1': '1',\n",
    "        '6': '9',\n",
    "        '8': '8',\n",
    "        '9': '6'\n",
    "    }\n",
    "\n",
    "    left = 0\n",
    "    right = len(num) - 1\n",
    "\n",
    "    while left <= right:\n",
    "        if num[left] not in strobogrammatic_map or num[right] != strobogrammatic_map[num[left]]:\n",
    "            return False\n",
    "        left += 1\n",
    "        right -= 1\n",
    "\n",
    "    return True\n",
    "\n",
    "# Testing the function\n",
    "num = \"69\"\n",
    "print(is_strobogrammatic(num))  \n",
    "\n",
    "num = \"88\"\n",
    "print(is_strobogrammatic(num)) \n",
    "\n",
    "num = \"962\"\n",
    "print(is_strobogrammatic(num)) \n"
   ]
  },
  {
   "cell_type": "code",
   "execution_count": null,
   "id": "9e691129-4da8-4941-b703-ecb757534766",
   "metadata": {},
   "outputs": [],
   "source": []
  },
  {
   "cell_type": "markdown",
   "id": "582bc2b7-390b-4af2-bfc4-9fe2658a64c1",
   "metadata": {},
   "source": [
    "Given two non-negative integers, num1 and num2 represented as string, return *the sum of* num1 *and* num2 *as a string*.\n",
    "\n",
    "You must solve the problem without using any built-in library for handling large integers (such as BigInteger). You must also not convert the inputs to integers directly.\n",
    "\n",
    "**Example 1:**\n",
    "\n",
    "**Input:** num1 = \"11\", num2 = \"123\"\n",
    "\n",
    "**Output:**\n",
    "\n",
    "\"134\""
   ]
  },
  {
   "cell_type": "code",
   "execution_count": 3,
   "id": "d6441d15-aa9b-4baa-bfe0-9e27c9c9772b",
   "metadata": {},
   "outputs": [
    {
     "name": "stdout",
     "output_type": "stream",
     "text": [
      "134\n",
      "533\n",
      "1000\n"
     ]
    }
   ],
   "source": [
    "def addStrings(num1, num2):\n",
    "    i = len(num1) - 1\n",
    "    j = len(num2) - 1\n",
    "    carry = 0\n",
    "    result = []\n",
    "\n",
    "    while i >= 0 or j >= 0 or carry:\n",
    "        digit1 = int(num1[i]) if i >= 0 else 0\n",
    "        digit2 = int(num2[j]) if j >= 0 else 0\n",
    "\n",
    "\n",
    "        current_sum = digit1 + digit2 + carry\n",
    "\n",
    "     \n",
    "        carry = current_sum // 10\n",
    "\n",
    "\n",
    "        digit = current_sum % 10\n",
    "        result.append(str(digit))\n",
    "\n",
    "        # Move to the next digits\n",
    "        i -= 1\n",
    "        j -= 1\n",
    "\n",
    "\n",
    "    return ''.join(result[::-1])\n",
    "\n",
    "# Testing the function\n",
    "num1 = \"11\"\n",
    "num2 = \"123\"\n",
    "print(addStrings(num1, num2)) \n",
    "num1 = \"456\"\n",
    "num2 = \"77\"\n",
    "print(addStrings(num1, num2)) \n",
    "\n",
    "num1 = \"999\"\n",
    "num2 = \"1\"\n",
    "print(addStrings(num1, num2))  \n"
   ]
  },
  {
   "cell_type": "code",
   "execution_count": null,
   "id": "fd18e83c-68df-4832-a903-6db858fa3f7d",
   "metadata": {},
   "outputs": [],
   "source": []
  },
  {
   "cell_type": "markdown",
   "id": "00607e3c-5378-4ea3-bd11-c5aed39eb74c",
   "metadata": {},
   "source": [
    "Given a string s, reverse the order of characters in each word within a sentence while still preserving whitespace and initial word order.\n",
    "\n",
    "**Example 1:**\n",
    "\n",
    "**Input:** s = \"Let's take LeetCode contest\"\n",
    "\n",
    "**Output:** \"s'teL ekat edoCteeL tsetnoc\""
   ]
  },
  {
   "cell_type": "code",
   "execution_count": 4,
   "id": "100076fa-fa6e-42b0-99a9-cdcaeee21869",
   "metadata": {},
   "outputs": [
    {
     "name": "stdout",
     "output_type": "stream",
     "text": [
      "s'teL ekat edoCteeL tsetnoc\n",
      "olleH dlroW\n"
     ]
    }
   ],
   "source": [
    "def reverseWords(s):\n",
    "    words = s.split()  \n",
    "    reversed_words = []\n",
    "\n",
    "    for word in words:\n",
    "        reversed_word = word[::-1]  \n",
    "        reversed_words.append(reversed_word)\n",
    "\n",
    "    return ' '.join(reversed_words)  \n",
    "\n",
    "\n",
    "s = \"Let's take LeetCode contest\"\n",
    "print(reverseWords(s)) \n",
    "\n",
    "s = \"Hello World\"\n",
    "print(reverseWords(s))  \n"
   ]
  },
  {
   "cell_type": "code",
   "execution_count": null,
   "id": "abb88676-5a69-4097-95cb-ac674a379266",
   "metadata": {},
   "outputs": [],
   "source": []
  },
  {
   "cell_type": "markdown",
   "id": "8a43c8e4-5bbf-4c7e-86be-3b29e66f234b",
   "metadata": {},
   "source": [
    "Given a string s and an integer k, reverse the first k characters for every 2k characters counting from the start of the string.\n",
    "\n",
    "If there are fewer than k characters left, reverse all of them. If there are less than 2k but greater than or equal to k characters, then reverse the first k characters and leave the other as original.\n",
    "\n",
    "**Example 1:**\n",
    "\n",
    "**Input:** s = \"abcdefg\", k = 2\n",
    "\n",
    "**Output:**\n",
    "\n",
    "\"bacdfeg\""
   ]
  },
  {
   "cell_type": "code",
   "execution_count": 6,
   "id": "45be1ede-fffe-4a91-91dc-fd73cbae6910",
   "metadata": {},
   "outputs": [
    {
     "name": "stdout",
     "output_type": "stream",
     "text": [
      "bacdfeg\n"
     ]
    }
   ],
   "source": [
    "def reverseStr(s, k):\n",
    "    result = list(s) \n",
    "    n = len(result)\n",
    "\n",
    "    for i in range(0, n, 2*k):\n",
    "        start = i\n",
    "        end = min(i + k, n)  \n",
    "\n",
    "       \n",
    "        result[start:end] = result[start:end][::-1]\n",
    "\n",
    "    return ''.join(result) \n",
    "\n",
    "\n",
    "s = \"abcdefg\"\n",
    "k = 2\n",
    "print(reverseStr(s, k))\n",
    "\n"
   ]
  },
  {
   "cell_type": "code",
   "execution_count": null,
   "id": "15716fc0-b563-43bf-b4e6-31bc893b900e",
   "metadata": {},
   "outputs": [],
   "source": []
  },
  {
   "cell_type": "markdown",
   "id": "4d976bbc-e7b3-422a-bcae-e0e37d55d6a7",
   "metadata": {},
   "source": [
    "Given two strings s and goal, return true *if and only if* s *can become* goal *after some number of **shifts** on* s.\n",
    "\n",
    "A **shift** on s consists of moving the leftmost character of s to the rightmost position.\n",
    "\n",
    "- For example, if s = \"abcde\", then it will be \"bcdea\" after one shift.\n",
    "\n",
    "**Example 1:**\n",
    "\n",
    "**Input:** s = \"abcde\", goal = \"cdeab\"\n",
    "\n",
    "**Output:**\n",
    "\n",
    "true"
   ]
  },
  {
   "cell_type": "code",
   "execution_count": 9,
   "id": "987f60f7-3590-47f2-a746-a781f4ee6bc9",
   "metadata": {},
   "outputs": [
    {
     "name": "stdout",
     "output_type": "stream",
     "text": [
      "True\n"
     ]
    }
   ],
   "source": [
    "def rotateString(s, goal):\n",
    "    if len(s) != len(goal):\n",
    "        return False\n",
    "\n",
    "    if s == goal:\n",
    "        return True\n",
    "\n",
    "    for _ in range(len(s)):\n",
    "        s = s[1:] + s[0]  # Perform a shift operation on s\n",
    "\n",
    "        if s == goal:\n",
    "            return True\n",
    "\n",
    "    return False\n",
    "\n",
    "# Testing the function\n",
    "s = \"abcde\"\n",
    "goal = \"cdeab\"\n",
    "print(rotateString(s, goal))  # Output: True\n",
    "\n"
   ]
  },
  {
   "cell_type": "code",
   "execution_count": null,
   "id": "2a4fdf7e-c9e7-49c5-b82a-9b18125dd37d",
   "metadata": {},
   "outputs": [],
   "source": []
  },
  {
   "cell_type": "code",
   "execution_count": null,
   "id": "6fd2740f-837e-4360-9ae0-5485124f9421",
   "metadata": {},
   "outputs": [],
   "source": [
    "Given two strings s and t, return true *if they are equal when both are typed into empty text editors*. '#' means a backspace character.\n",
    "\n",
    "Note that after backspacing an empty text, the text will continue empty.\n",
    "\n",
    "**Example 1:**\n",
    "\n",
    "**Input:** s = \"ab#c\", t = \"ad#c\"\n",
    "\n",
    "**Output:** true\n",
    "\n",
    "**Explanation:**\n",
    "\n",
    "Both s and t become \"ac\"."
   ]
  },
  {
   "cell_type": "code",
   "execution_count": 14,
   "id": "fdc65db5-008d-4864-a10f-5696d2acf4c8",
   "metadata": {},
   "outputs": [
    {
     "name": "stdout",
     "output_type": "stream",
     "text": [
      "True\n"
     ]
    }
   ],
   "source": [
    "def backspaceCompare(s, t):\n",
    "    def processString(s):\n",
    "        stack = []\n",
    "\n",
    "        for char in s:\n",
    "            if char != '#':\n",
    "                stack.append(char)\n",
    "            elif stack:\n",
    "                stack.pop()\n",
    "\n",
    "        return ''.join(stack)\n",
    "\n",
    "    processed_s = processString(s)\n",
    "    processed_t = processString(t)\n",
    "\n",
    "    return processed_s == processed_t\n",
    "\n",
    "# Testing the function\n",
    "s = \"ab#c\"\n",
    "t = \"ad#c\"\n",
    "print(backspaceCompare(s, t))  # Output: True\n"
   ]
  },
  {
   "cell_type": "code",
   "execution_count": null,
   "id": "75f0b407-940e-4458-a014-386c84f30d13",
   "metadata": {},
   "outputs": [],
   "source": []
  },
  {
   "cell_type": "markdown",
   "id": "0ee06838-e583-46ff-b40b-b825db033836",
   "metadata": {},
   "source": [
    "Given two strings s and t, return true *if they are equal when both are typed into empty text editors*. '#' means a backspace character.\n",
    "\n",
    "Note that after backspacing an empty text, the text will continue empty.\n",
    "\n",
    "**Example 1:**\n",
    "\n",
    "**Input:** s = \"ab#c\", t = \"ad#c\"\n",
    "\n",
    "**Output:** true\n",
    "\n",
    "**Explanation:**\n",
    "\n",
    "Both s and t become \"ac\"."
   ]
  },
  {
   "cell_type": "code",
   "execution_count": 15,
   "id": "8d9ebfef-18d9-4b27-a8a1-e3473750584a",
   "metadata": {},
   "outputs": [
    {
     "name": "stdout",
     "output_type": "stream",
     "text": [
      "True\n"
     ]
    }
   ],
   "source": [
    "def backspace_compare(s, t):\n",
    "    def process_backspaces(string):\n",
    "        result = []\n",
    "        for char in string:\n",
    "            if char != '#':\n",
    "                result.append(char)\n",
    "            elif result:\n",
    "                result.pop()\n",
    "        return ''.join(result)\n",
    "\n",
    "    processed_s = process_backspaces(s)\n",
    "    processed_t = process_backspaces(t)\n",
    "    return processed_s == processed_t\n",
    "\n",
    "# Example usage\n",
    "s = \"ab#c\"\n",
    "t = \"ad#c\"\n",
    "print(backspace_compare(s, t))  # Output: True\n"
   ]
  },
  {
   "cell_type": "code",
   "execution_count": null,
   "id": "6639546e-2e01-47cf-9bac-93f66091ddd0",
   "metadata": {},
   "outputs": [],
   "source": []
  },
  {
   "cell_type": "markdown",
   "id": "0b695701-bd89-4600-91b0-efe3ca16487e",
   "metadata": {},
   "source": [
    "You are given an array coordinates, coordinates[i] = [x, y], where [x, y] represents the coordinate of a point. Check if these points make a straight line in the XY plane.\n",
    "\n",
    "**Input:** coordinates = [[1,2],[2,3],[3,4],[4,5],[5,6],[6,7]]\n",
    "\n",
    "**Output:** true"
   ]
  },
  {
   "cell_type": "code",
   "execution_count": 18,
   "id": "e64c1a89-851e-465e-8689-fbeb8fc7c877",
   "metadata": {},
   "outputs": [
    {
     "name": "stdout",
     "output_type": "stream",
     "text": [
      "True\n"
     ]
    }
   ],
   "source": [
    "def checkStraightLine(coordinates):\n",
    "\n",
    "    def calculate_slope(p1, p2):\n",
    "        if p2[0] - p1[0] == 0:\n",
    "            return float('inf')  \n",
    "        return (p2[1] - p1[1]) / (p2[0] - p1[0])\n",
    "\n",
    "    # Check if all slopes are equal\n",
    "    slope = calculate_slope(coordinates[0], coordinates[1])\n",
    "    for i in range(2, len(coordinates)):\n",
    "        current_slope = calculate_slope(coordinates[i - 1], coordinates[i])\n",
    "        if current_slope != slope:\n",
    "            return False\n",
    "    return True\n",
    "\n",
    "# Example usage\n",
    "coordinates = [[1,2],[2,3],[3,4],[4,5],[5,6],[6,7]]\n",
    "print(checkStraightLine(coordinates))  # Output: True\n"
   ]
  },
  {
   "cell_type": "code",
   "execution_count": null,
   "id": "ab606956-f8b7-4229-89a2-a3a6851fb1c5",
   "metadata": {},
   "outputs": [],
   "source": []
  }
 ],
 "metadata": {
  "kernelspec": {
   "display_name": "Python 3 (ipykernel)",
   "language": "python",
   "name": "python3"
  },
  "language_info": {
   "codemirror_mode": {
    "name": "ipython",
    "version": 3
   },
   "file_extension": ".py",
   "mimetype": "text/x-python",
   "name": "python",
   "nbconvert_exporter": "python",
   "pygments_lexer": "ipython3",
   "version": "3.10.8"
  }
 },
 "nbformat": 4,
 "nbformat_minor": 5
}
