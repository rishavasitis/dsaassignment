{
 "cells": [
  {
   "cell_type": "markdown",
   "id": "3afef7af-4b2c-4ec5-b08b-9937d79477e5",
   "metadata": {},
   "source": [
    "1.Given a 1-indexed array of integers numbers that are already sorted in non-decreasing order, find two numbers such that they add up to a specific target number. Let these two numbers be numbers[index1] and numbers[index2] where 1 <= index1 < index2 < numbers.length.\n",
    "Return the indices of the two numbers, index1, and index2, added by one as an integer array [index1, index2] of length 2.\n",
    "The tests are generated such that there is exactly one solution. You may not use the same element twice.\n",
    "Your solution must use only constant extra space.\n",
    "Input: numbers = [2,7,11,15], target = 9\n",
    "Output: [1,2]\n",
    "Explanation: The sum of 2 and 7 is 9. Therefore, index1 = 1, index2 = 2. We return [1, 2].\n",
    "\n",
    "2.Given an array of integer nums sorted in non-decreasing order, find the starting and ending position of a given target value.\n",
    "If the target is not found in the array, return [-1, -1].\n",
    "You must write an algorithm with O(log n) runtime complexity\n",
    "Input: nums = [5,7,7,8,8,10], target = 8\n",
    "Output: [3,4]\n",
    "3.A peak element is an element that is strictly greater than its neighbors.\n",
    "Given a 0-indexed integer array nums, find a peak element, and return its index. If the array contains multiple peaks, return the index to any of the peaks.\n",
    "You may imagine that nums[-1] = nums[n] = -∞. In other words, an element is always considered to be strictly greater than a neighbor that is outside the array.\n",
    "You must write an algorithm that runs in O(log n) time.\n",
    "Input: nums = [1,2,3,1]\n",
    "Output: 2\n",
    "Explanation: 3 is a peak element and your function should return the index number 2.\n",
    "4.Given a sorted array of distinct integers and a target value, return the index if the target is found. If not, return the index where it would be if it were inserted in order.\n",
    "You must write an algorithm with O(log n) runtime complexity.\n",
    "Input: nums = [1,3,5,6], target = 5\n",
    "Output: 2\n",
    "\n",
    "Input: nums = [1,3,5,6], target = 7\n",
    "Output: 4\n",
    "\n",
    "5.Find the majority element in the array. A majority element in an array A[] of size n is an element that appears more than n/2 times (and hence there is at most one such element). \n",
    "Input: A[]={3, 3, 4, 2, 4, 4, 2, 4, 4}\n",
    "Output: 4\n",
    "Explanation: The frequency of 4 is 5 which is greater than half of the size of the array size. \n",
    "\n",
    "6.You are a product manager and currently leading a team to develop a new product. Unfortunately, the latest version of your product fails the quality check. Since each version is developed based on the previous version, all the versions after a bad version are also bad.\n",
    "Suppose you have n versions [1, 2, ..., n] and you want to find out the first bad one, which causes all the following ones to be bad.\n",
    "You are given an API bool isBadVersion(version) which returns whether the version is bad. Implement a function to find the first bad version. You should minimize the number of calls to the API.\n",
    "Input: n = 5, bad = 4\n",
    "Output: 4\n",
    "Explanation:\n",
    "call isBadVersion(3) -> false\n",
    "call isBadVersion(5) -> true\n",
    "call isBadVersion(4) -> true\n",
    "Then 4 is the first bad version.\n",
    "\n",
    "\n",
    "7.Given an array of integers, find the inversion of an array. Formally, two elements a[i] and a[j] form an inversion if a[i] > a[j] and i < j.\n",
    "N=5, arr[] = {2, 4, 1, 3, 5}\n",
    "Output: 3\n",
    "Explanation: (2,1) (4,1) and (4,3) forms an inversion in an array\n",
    "\n",
    "8.Given three arrays sorted in non-decreasing order, print all common elements in these arrays.\n",
    "ar1[] = {1, 5, 10, 20, 40, 80} \n",
    "ar2[] = {6, 7, 20, 80, 100} \n",
    "ar3[] = {3, 4, 15, 20, 30, 70, 80, 120} \n",
    "Output: 20, 80\n"
   ]
  },
  {
   "cell_type": "code",
   "execution_count": null,
   "id": "834028a2-aa2d-4691-bcbe-914d607a12b7",
   "metadata": {},
   "outputs": [],
   "source": []
  },
  {
   "cell_type": "code",
   "execution_count": 8,
   "id": "e92adebb-9196-4527-adc9-4e0a22cf5bae",
   "metadata": {},
   "outputs": [
    {
     "name": "stdout",
     "output_type": "stream",
     "text": [
      "[1, 2]\n"
     ]
    }
   ],
   "source": [
    "#1\n",
    "\n",
    "def two_sum(numbers, target):\n",
    "    left, right = 0, len(numbers) - 1\n",
    "    while left < right:\n",
    "        current_sum = numbers[left] + numbers[right]\n",
    "        if current_sum == target:\n",
    "            return [left + 1, right + 1]\n",
    "        elif current_sum < target:\n",
    "            left += 1\n",
    "        else:\n",
    "            right -= 1\n",
    "\n",
    "\n",
    "numbers = [2, 7, 11, 15]\n",
    "target = 9\n",
    "print(two_sum(numbers, target))  \n"
   ]
  },
  {
   "cell_type": "code",
   "execution_count": null,
   "id": "f03b35b3-8176-4a11-af3d-a3487ca7f53c",
   "metadata": {},
   "outputs": [],
   "source": []
  },
  {
   "cell_type": "code",
   "execution_count": 9,
   "id": "a2e20e64-865d-435f-b145-e391b516f82a",
   "metadata": {},
   "outputs": [
    {
     "name": "stdout",
     "output_type": "stream",
     "text": [
      "[3, 4]\n"
     ]
    }
   ],
   "source": [
    "#2\n",
    "\n",
    "def search_range(nums, target):\n",
    "    left, right = 0, len(nums) - 1\n",
    "    while left <= right:\n",
    "        mid = (left + right) // 2\n",
    "        if nums[mid] == target:\n",
    "            start, end = mid, mid\n",
    "            while start > 0 and nums[start - 1] == target:\n",
    "                start -= 1\n",
    "            while end < len(nums) - 1 and nums[end + 1] == target:\n",
    "                end += 1\n",
    "            return [start, end]\n",
    "        elif nums[mid] < target:\n",
    "            left = mid + 1\n",
    "        else:\n",
    "            right = mid - 1\n",
    "    return [-1, -1]\n",
    "\n",
    "\n",
    "nums = [5, 7, 7, 8, 8, 10]\n",
    "target = 8\n",
    "print(search_range(nums, target)) \n"
   ]
  },
  {
   "cell_type": "code",
   "execution_count": null,
   "id": "50e35bd3-98e5-4882-9846-d29f0a6469ec",
   "metadata": {},
   "outputs": [],
   "source": []
  },
  {
   "cell_type": "code",
   "execution_count": 10,
   "id": "c4077f1d-b147-478b-be60-8176feb2bf1b",
   "metadata": {},
   "outputs": [
    {
     "name": "stdout",
     "output_type": "stream",
     "text": [
      "2\n"
     ]
    }
   ],
   "source": [
    "#3\n",
    "\n",
    "def find_peak_element(nums):\n",
    "    left, right = 0, len(nums) - 1\n",
    "    while left < right:\n",
    "        mid = (left + right) // 2\n",
    "        if nums[mid] < nums[mid + 1]:\n",
    "            left = mid + 1\n",
    "        else:\n",
    "            right = mid\n",
    "    return left\n",
    "\n",
    "\n",
    "nums = [1, 2, 3, 1]\n",
    "print(find_peak_element(nums))  \n"
   ]
  },
  {
   "cell_type": "code",
   "execution_count": null,
   "id": "f817b0c8-a2bb-4392-ac73-010211cfc290",
   "metadata": {},
   "outputs": [],
   "source": []
  },
  {
   "cell_type": "code",
   "execution_count": 11,
   "id": "2f4d45ce-f9f2-485a-a0ea-8d267b918c83",
   "metadata": {},
   "outputs": [
    {
     "name": "stdout",
     "output_type": "stream",
     "text": [
      "2\n",
      "4\n"
     ]
    }
   ],
   "source": [
    "#4\n",
    "\n",
    "def search_insert(nums, target):\n",
    "    left, right = 0, len(nums) - 1\n",
    "    while left <= right:\n",
    "        mid = (left + right) // 2\n",
    "        if nums[mid] == target:\n",
    "            return mid\n",
    "        elif nums[mid] < target:\n",
    "            left = mid + 1\n",
    "        else:\n",
    "            right = mid - 1\n",
    "    return left\n",
    "\n",
    "\n",
    "nums = [1, 3, 5, 6]\n",
    "target = 5\n",
    "print(search_insert(nums, target))  \n",
    "\n",
    "target = 7\n",
    "print(search_insert(nums, target))  \n"
   ]
  },
  {
   "cell_type": "code",
   "execution_count": null,
   "id": "84484ecd-41bc-4b7e-8a45-26477c029528",
   "metadata": {},
   "outputs": [],
   "source": []
  },
  {
   "cell_type": "code",
   "execution_count": 12,
   "id": "a1626257-aaa5-4a7b-b2d1-9bdde930fdb6",
   "metadata": {},
   "outputs": [
    {
     "name": "stdout",
     "output_type": "stream",
     "text": [
      "4\n"
     ]
    }
   ],
   "source": [
    "#5\n",
    "\n",
    "def majority_element(nums):\n",
    "    count, candidate = 0, None\n",
    "    for num in nums:\n",
    "        if count == 0:\n",
    "            candidate = num\n",
    "        count += 1 if num == candidate else -1\n",
    "    return candidate\n",
    "\n",
    "\n",
    "nums = [3, 3, 4, 2, 4, 4, 2, 4, 4]\n",
    "print(majority_element(nums)) \n"
   ]
  },
  {
   "cell_type": "code",
   "execution_count": null,
   "id": "999caab3-d434-4cba-9656-fd65a943c724",
   "metadata": {},
   "outputs": [],
   "source": []
  },
  {
   "cell_type": "code",
   "execution_count": 13,
   "id": "8911eeeb-7c61-4204-9221-658fd3024188",
   "metadata": {},
   "outputs": [
    {
     "name": "stdout",
     "output_type": "stream",
     "text": [
      "4\n"
     ]
    }
   ],
   "source": [
    "#6\n",
    "\n",
    "def first_bad_version(n):\n",
    "    left, right = 1, n\n",
    "    while left < right:\n",
    "        mid = left + (right - left) // 2\n",
    "        if isBadVersion(mid):\n",
    "            right = mid\n",
    "        else:\n",
    "            left = mid + 1\n",
    "    return left\n",
    "\n",
    "\n",
    "bad_versions = [False, False, False, True, True] \n",
    "\n",
    "def isBadVersion(version):\n",
    "    return bad_versions[version - 1]\n",
    "\n",
    "\n",
    "n = 5\n",
    "print(first_bad_version(n))  \n"
   ]
  },
  {
   "cell_type": "code",
   "execution_count": null,
   "id": "1adc4604-f18e-47b3-bab3-e523630065b1",
   "metadata": {},
   "outputs": [],
   "source": []
  },
  {
   "cell_type": "code",
   "execution_count": 14,
   "id": "cb13588e-e484-4870-bcb3-3229e75ada3a",
   "metadata": {},
   "outputs": [
    {
     "name": "stdout",
     "output_type": "stream",
     "text": [
      "3\n"
     ]
    }
   ],
   "source": [
    "#7\n",
    "\n",
    "def merge_and_count(arr, left, mid, right):\n",
    "    count = 0\n",
    "    left_arr = arr[left:mid+1]\n",
    "    right_arr = arr[mid+1:right+1]\n",
    "\n",
    "    i = j = 0\n",
    "    k = left\n",
    "\n",
    "    while i < len(left_arr) and j < len(right_arr):\n",
    "        if left_arr[i] <= right_arr[j]:\n",
    "            arr[k] = left_arr[i]\n",
    "            i += 1\n",
    "        else:\n",
    "            arr[k] = right_arr[j]\n",
    "            j += 1\n",
    "            count += (mid - left - i + 1)\n",
    "        k += 1\n",
    "\n",
    "    while i < len(left_arr):\n",
    "        arr[k] = left_arr[i]\n",
    "        i += 1\n",
    "        k += 1\n",
    "\n",
    "    while j < len(right_arr):\n",
    "        arr[k] = right_arr[j]\n",
    "        j += 1\n",
    "        k += 1\n",
    "\n",
    "    return count\n",
    "\n",
    "def count_inversions(arr, left, right):\n",
    "    count = 0\n",
    "    if left < right:\n",
    "        mid = (left + right) // 2\n",
    "        count += count_inversions(arr, left, mid)\n",
    "        count += count_inversions(arr, mid+1, right)\n",
    "        count += merge_and_count(arr, left, mid, right)\n",
    "    return count\n",
    "\n",
    "\n",
    "arr = [2, 4, 1, 3, 5]\n",
    "N = len(arr)\n",
    "print(count_inversions(arr, 0, N-1)) \n"
   ]
  },
  {
   "cell_type": "code",
   "execution_count": null,
   "id": "43779eeb-51d6-4398-afd4-bad3b7a080e8",
   "metadata": {},
   "outputs": [],
   "source": []
  },
  {
   "cell_type": "code",
   "execution_count": 15,
   "id": "c2c08b51-aea6-4115-8694-9e61e4fe122d",
   "metadata": {},
   "outputs": [
    {
     "name": "stdout",
     "output_type": "stream",
     "text": [
      "[20, 80]\n"
     ]
    }
   ],
   "source": [
    "#8\n",
    "\n",
    "def find_common_elements(ar1, ar2, ar3):\n",
    "    i = j = k = 0\n",
    "    common_elements = []\n",
    "\n",
    "    while i < len(ar1) and j < len(ar2) and k < len(ar3):\n",
    "        if ar1[i] == ar2[j] == ar3[k]:\n",
    "            common_elements.append(ar1[i])\n",
    "            i += 1\n",
    "            j += 1\n",
    "            k += 1\n",
    "        elif ar1[i] < ar2[j]:\n",
    "            i += 1\n",
    "        elif ar2[j] < ar3[k]:\n",
    "            j += 1\n",
    "        else:\n",
    "            k += 1\n",
    "\n",
    "    return common_elements\n",
    "\n",
    "\n",
    "ar1 = [1, 5, 10, 20, 40, 80]\n",
    "ar2 = [6, 7, 20, 80, 100]\n",
    "ar3 = [3, 4, 15, 20, 30, 70, 80, 120]\n",
    "print(find_common_elements(ar1, ar2, ar3)) \n"
   ]
  },
  {
   "cell_type": "code",
   "execution_count": null,
   "id": "9d200366-b5dd-439c-aa80-1dbbdea8b88d",
   "metadata": {},
   "outputs": [],
   "source": []
  },
  {
   "cell_type": "code",
   "execution_count": null,
   "id": "e4fa4750-9df5-499c-8dd4-570e53ce5972",
   "metadata": {},
   "outputs": [],
   "source": []
  }
 ],
 "metadata": {
  "kernelspec": {
   "display_name": "Python 3 (ipykernel)",
   "language": "python",
   "name": "python3"
  },
  "language_info": {
   "codemirror_mode": {
    "name": "ipython",
    "version": 3
   },
   "file_extension": ".py",
   "mimetype": "text/x-python",
   "name": "python",
   "nbconvert_exporter": "python",
   "pygments_lexer": "ipython3",
   "version": "3.10.8"
  }
 },
 "nbformat": 4,
 "nbformat_minor": 5
}
