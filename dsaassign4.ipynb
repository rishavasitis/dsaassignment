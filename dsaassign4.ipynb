{
 "cells": [
  {
   "cell_type": "markdown",
   "id": "ddd80fa7-a804-4861-ae12-37d1e776ba27",
   "metadata": {},
   "source": [
    "QUESTION1 :Given three integer arrays arr1, arr2 and arr3  sorted in strictly increasing order, return a sorted array of  only the integers that appeared in all three arrays.\n",
    "\n",
    "Example 1:\n",
    "\n",
    "Input: arr1 = [1,2,3,4,5], arr2 = [1,2,5,7,9], arr3 = [1,3,4,5,8]\n",
    "\n",
    "Output: [1,5]\n",
    "\n",
    "Explanation:Only 1 and 5 appeared in the three array"
   ]
  },
  {
   "cell_type": "code",
   "execution_count": 1,
   "id": "20cfbd33-32e5-40e6-b115-14e6b61780cf",
   "metadata": {},
   "outputs": [
    {
     "name": "stdout",
     "output_type": "stream",
     "text": [
      "[1, 5]\n"
     ]
    }
   ],
   "source": [
    "def find_common_elements(arr1, arr2, arr3):\n",
    "    ptr1 = ptr2 = ptr3 = 0\n",
    "    result = []\n",
    "\n",
    "    while ptr1 < len(arr1) and ptr2 < len(arr2) and ptr3 < len(arr3):\n",
    "        if arr1[ptr1] == arr2[ptr2] == arr3[ptr3]:\n",
    "            result.append(arr1[ptr1])\n",
    "            ptr1 += 1\n",
    "            ptr2 += 1\n",
    "            ptr3 += 1\n",
    "        elif arr1[ptr1] <= arr2[ptr2] and arr1[ptr1] <= arr3[ptr3]:\n",
    "            ptr1 += 1\n",
    "        elif arr2[ptr2] <= arr1[ptr1] and arr2[ptr2] <= arr3[ptr3]:\n",
    "            ptr2 += 1\n",
    "        else:\n",
    "            ptr3 += 1\n",
    "\n",
    "    return result\n",
    "\n",
    "arr1 = [1, 2, 3, 4, 5]\n",
    "arr2 = [1, 2, 5, 7, 9]\n",
    "arr3 = [1, 3, 4, 5, 8]\n",
    "\n",
    "common_elements = find_common_elements(arr1, arr2, arr3)\n",
    "print(common_elements)\n"
   ]
  },
  {
   "cell_type": "code",
   "execution_count": null,
   "id": "5afe8610-4b6b-479d-b9cf-3eb49b924fc6",
   "metadata": {},
   "outputs": [],
   "source": []
  },
  {
   "cell_type": "markdown",
   "id": "3f28daff-df58-47d4-bcb6-417d78b26d6b",
   "metadata": {},
   "source": [
    "QUESTION2: Given two **0-indexed** integer arrays nums1 and nums2, return *a list* answer *of size* 2 *where:*\n",
    "\n",
    "- answer[0] *is a list of all **distinct** integers in* nums1 *which are **not** present in* nums2*.*\n",
    "- answer[1] *is a list of all **distinct** integers in* nums2 *which are **not** present in* nums1.\n",
    "\n",
    "**Note** that the integers in the lists may be returned in **any** order.\n",
    "\n",
    "**Example 1:**\n",
    "\n",
    "**Input:** nums1 = [1,2,3], nums2 = [2,4,6]\n",
    "\n",
    "**Output:** [[1,3],[4,6]]\n",
    "\n",
    "**Explanation:**\n",
    "\n",
    "For nums1, nums1[1] = 2 is present at index 0 of nums2, whereas nums1[0] = 1 and nums1[2] = 3 are not present in nums2. Therefore, answer[0] = [1,3].\n",
    "\n",
    "For nums2, nums2[0] = 2 is present at index 1 of nums1, whereas nums2[1] = 4 and nums2[2] = 6 are not present in nums2. Therefore, answer[1] = [4,6]."
   ]
  },
  {
   "cell_type": "code",
   "execution_count": 2,
   "id": "f49e18a9-c1c6-49c1-9c57-a6f63ba76bb4",
   "metadata": {},
   "outputs": [
    {
     "name": "stdout",
     "output_type": "stream",
     "text": [
      "[[1, 3], [4, 6]]\n"
     ]
    }
   ],
   "source": [
    "def find_missing_numbers(nums1, nums2):\n",
    "    set1 = set(nums1)\n",
    "    set2 = set(nums2)\n",
    "\n",
    "    result1 = [x for x in nums1 if x not in set2]\n",
    "    result2 = [x for x in nums2 if x not in set1]\n",
    "\n",
    "    return [result1, result2]\n",
    "\n",
    "nums1 = [1, 2, 3]\n",
    "nums2 = [2, 4, 6]\n",
    "\n",
    "answer = find_missing_numbers(nums1, nums2)\n",
    "print(answer)\n"
   ]
  },
  {
   "cell_type": "code",
   "execution_count": null,
   "id": "5171759f-970a-4bef-af23-79d725f471d9",
   "metadata": {},
   "outputs": [],
   "source": []
  },
  {
   "cell_type": "markdown",
   "id": "9ccad555-3b1e-49ed-a449-8085e6304d82",
   "metadata": {},
   "source": [
    "QUESTION3: <aside>\n",
    " Given a 2D integer array matrix, return *the **transpose** of* matrix.\n",
    "\n",
    "The **transpose** of a matrix is the matrix flipped over its main diagonal, switching the matrix's row and column indices.\n",
    "\n",
    "**Example 1:**\n",
    "\n",
    "Input: matrix = [[1,2,3],[4,5,6],[7,8,9]]\n",
    "\n",
    "Output: [[1,4,7],[2,5,8],[3,6,9]]\n",
    "\n",
    "</aside>"
   ]
  },
  {
   "cell_type": "code",
   "execution_count": 3,
   "id": "3bd3e5bb-0b25-4471-8966-b86f3dcdf1dc",
   "metadata": {},
   "outputs": [
    {
     "name": "stdout",
     "output_type": "stream",
     "text": [
      "[[1, 4, 7], [2, 5, 8], [3, 6, 9]]\n"
     ]
    }
   ],
   "source": [
    "def transpose(matrix):\n",
    "    rows = len(matrix)\n",
    "    cols = len(matrix[0]) if rows > 0 else 0\n",
    "\n",
    "    transpose = [[0 for _ in range(rows)] for _ in range(cols)]\n",
    "\n",
    "    for row_index in range(rows):\n",
    "        for col_index in range(cols):\n",
    "            transpose[col_index][row_index] = matrix[row_index][col_index]\n",
    "\n",
    "    return transpose\n",
    "matrix = [[1, 2, 3], [4, 5, 6], [7, 8, 9]]\n",
    "\n",
    "transposed_matrix = transpose(matrix)\n",
    "print(transposed_matrix)\n"
   ]
  },
  {
   "cell_type": "code",
   "execution_count": null,
   "id": "2790d338-24fe-4e2c-8960-a2658a2c52bb",
   "metadata": {},
   "outputs": [],
   "source": []
  },
  {
   "cell_type": "markdown",
   "id": "7ce82246-f86e-4fd6-ae9b-b682d79e3ffd",
   "metadata": {},
   "source": [
    "QUESTION4 : <aside>\n",
    "💡 Given an integer array nums of 2n integers, group these integers into n pairs (a1, b1), (a2, b2), ..., (an, bn) such that the sum of min(ai, bi) for all i is **maximized**. Return *the maximized sum*.\n",
    "\n",
    "**Example 1:**\n",
    "\n",
    "Input: nums = [1,4,3,2]\n",
    "\n",
    "Output: 4\n",
    "\n",
    "**Explanation:** All possible pairings (ignoring the ordering of elements) are:\n",
    "\n",
    "1. (1, 4), (2, 3) -> min(1, 4) + min(2, 3) = 1 + 2 = 3\n",
    "\n",
    "2. (1, 3), (2, 4) -> min(1, 3) + min(2, 4) = 1 + 2 = 3\n",
    "\n",
    "3. (1, 2), (3, 4) -> min(1, 2) + min(3, 4) = 1 + 3 = 4\n",
    "\n",
    "So the maximum possible sum is 4.\n",
    "\n",
    "</aside>"
   ]
  },
  {
   "cell_type": "code",
   "execution_count": 4,
   "id": "fb149927-b6f0-457e-b80f-14a03d2c0f74",
   "metadata": {},
   "outputs": [
    {
     "name": "stdout",
     "output_type": "stream",
     "text": [
      "4\n"
     ]
    }
   ],
   "source": [
    "def array_pair_sum(nums):\n",
    "    nums.sort()\n",
    "    max_sum = 0\n",
    "\n",
    "    for i in range(0, len(nums), 2):\n",
    "        max_sum += nums[i]\n",
    "\n",
    "    return max_sum\n",
    "nums = [1, 4, 3, 2]\n",
    "\n",
    "max_sum = array_pair_sum(nums)\n",
    "print(max_sum)\n"
   ]
  },
  {
   "cell_type": "code",
   "execution_count": null,
   "id": "77c9c322-725f-444c-9315-fc481ef9795f",
   "metadata": {},
   "outputs": [],
   "source": []
  },
  {
   "cell_type": "markdown",
   "id": "4d3fe9b4-4a56-45ad-b7ce-8e459545c3af",
   "metadata": {},
   "source": [
    "QUESTION5:<aside>\n",
    "💡 You have n coins and you want to build a staircase with these coins. The staircase consists of k rows where the ith row has exactly i coins. The last row of the staircase **may be** incomplete.\n",
    "\n",
    "Given the integer n, return *the number of **complete rows** of the staircase you will build*\n",
    "\n",
    "</aside>"
   ]
  },
  {
   "cell_type": "code",
   "execution_count": 5,
   "id": "24f67166-38f2-4870-a48a-4ef49d24a2e7",
   "metadata": {},
   "outputs": [
    {
     "name": "stdout",
     "output_type": "stream",
     "text": [
      "2\n"
     ]
    }
   ],
   "source": [
    "def arrange_coins(n):\n",
    "    left = 0\n",
    "    right = n\n",
    "\n",
    "    while left <= right:\n",
    "        midpoint = (left + right) // 2\n",
    "        coins_required = (midpoint * (midpoint + 1)) // 2\n",
    "\n",
    "        if coins_required <= n:\n",
    "            left = midpoint + 1\n",
    "        else:\n",
    "            right = midpoint - 1\n",
    "\n",
    "    return right\n",
    "n = 5\n",
    "\n",
    "complete_rows = arrange_coins(n)\n",
    "print(complete_rows)\n"
   ]
  },
  {
   "cell_type": "code",
   "execution_count": null,
   "id": "4eeffff8-575d-4ab2-bf91-6774944cf4e8",
   "metadata": {},
   "outputs": [],
   "source": []
  },
  {
   "cell_type": "markdown",
   "id": "dbd60b9b-3d1a-4e0d-bbdf-065122083646",
   "metadata": {},
   "source": [
    "<aside>\n",
    "QUESTION6:  Given an integer array nums sorted in **non-decreasing** order, return *an array of **the squares of each number** sorted in non-decreasing order*.\n",
    "\n",
    "**Example 1:**\n",
    "\n",
    "Input: nums = [-4,-1,0,3,10]\n",
    "\n",
    "Output: [0,1,9,16,100]\n",
    "\n",
    "**Explanation:** After squaring, the array becomes [16,1,0,9,100].\n",
    "After sorting, it becomes [0,1,9,16,100]\n",
    "\n",
    "</aside>"
   ]
  },
  {
   "cell_type": "code",
   "execution_count": 6,
   "id": "c7eaa872-a7f3-4ee9-a0cb-b0981b6a7eeb",
   "metadata": {},
   "outputs": [
    {
     "name": "stdout",
     "output_type": "stream",
     "text": [
      "[0, 1, 9, 16, 100]\n"
     ]
    }
   ],
   "source": [
    "def sorted_squares(nums):\n",
    "    result = []\n",
    "\n",
    "    for num in nums:\n",
    "        square = num * num\n",
    "        result.append(square)\n",
    "\n",
    "    result.sort()\n",
    "\n",
    "    return result\n",
    "nums = [-4, -1, 0, 3, 10]\n",
    "\n",
    "squared_nums = sorted_squares(nums)\n",
    "print(squared_nums)\n"
   ]
  },
  {
   "cell_type": "code",
   "execution_count": null,
   "id": "9be39272-34a3-40f6-800c-db2b81f6ba7a",
   "metadata": {},
   "outputs": [],
   "source": []
  },
  {
   "cell_type": "markdown",
   "id": "a3118aa4-bb3d-4ee4-9d3f-6296f82142d5",
   "metadata": {},
   "source": [
    "You are given an m x n matrix M initialized with all 0's and an array of operations ops, where ops[i] = [ai, bi] means M[x][y] should be incremented by one for all 0 <= x < ai and 0 <= y < bi.\n",
    "\n",
    "Count and return *the number of maximum integers in the matrix after performing all the operations*\n",
    "\n",
    "</aside>  \n",
    "**Input:** m = 3, n = 3, ops = [[2,2],[3,3]]\n",
    "\n",
    "**Output:** 4\n"
   ]
  },
  {
   "cell_type": "code",
   "execution_count": 7,
   "id": "f61cbfd0-5861-4056-bb7b-79f4707a2014",
   "metadata": {},
   "outputs": [
    {
     "name": "stdout",
     "output_type": "stream",
     "text": [
      "4\n"
     ]
    }
   ],
   "source": [
    "def max_count(m, n, ops):\n",
    "    min_row = m\n",
    "    min_col = n\n",
    "\n",
    "    for op in ops:\n",
    "        min_row = min(min_row, op[0])\n",
    "        min_col = min(min_col, op[1])\n",
    "\n",
    "    return min_row * min_col\n",
    "m = 3\n",
    "n = 3\n",
    "ops = [[2, 2], [3, 3]]\n",
    "\n",
    "max_integers = max_count(m, n, ops)\n",
    "print(max_integers)\n"
   ]
  },
  {
   "cell_type": "code",
   "execution_count": null,
   "id": "de144dff-1482-4df4-9b83-2077d44824bc",
   "metadata": {},
   "outputs": [],
   "source": []
  },
  {
   "cell_type": "markdown",
   "id": "fe6216d9-976e-4e6f-861f-3e9f8693cfc6",
   "metadata": {},
   "source": [
    "Given the array nums consisting of 2n elements in the form [x1,x2,...,xn,y1,y2,...,yn].\n",
    "\n",
    "*Return the array in the form* [x1,y1,x2,y2,...,xn,yn].\n",
    "\n",
    "**Example 1:**\n",
    "\n",
    "**Input:** nums = [2,5,1,3,4,7], n = 3\n",
    "\n",
    "**Output:** [2,3,5,4,1,7]\n",
    "\n",
    "**Explanation:** Since x1=2, x2=5, x3=1, y1=3, y2=4, y3=7 then the answer is [2,3,5,4,1,7]."
   ]
  },
  {
   "cell_type": "code",
   "execution_count": 8,
   "id": "1ec2d518-c205-4b6e-a542-d89aaa0e7781",
   "metadata": {},
   "outputs": [
    {
     "name": "stdout",
     "output_type": "stream",
     "text": [
      "[2, 3, 5, 4, 1, 7]\n"
     ]
    }
   ],
   "source": [
    "def shuffle(nums, n):\n",
    "    result = []\n",
    "\n",
    "    i = 0\n",
    "    j = n\n",
    "\n",
    "    for k in range(n):\n",
    "        result.append(nums[i])\n",
    "        i += 1\n",
    "        result.append(nums[j])\n",
    "        j += 1\n",
    "\n",
    "    return result\n",
    "nums = [2, 5, 1, 3, 4, 7]\n",
    "n = 3\n",
    "\n",
    "reorganized_nums = shuffle(nums, n)\n",
    "print(reorganized_nums)\n"
   ]
  },
  {
   "cell_type": "code",
   "execution_count": null,
   "id": "f61c48fc-ac10-4359-9ee2-9edb271ea907",
   "metadata": {},
   "outputs": [],
   "source": []
  }
 ],
 "metadata": {
  "kernelspec": {
   "display_name": "Python 3 (ipykernel)",
   "language": "python",
   "name": "python3"
  },
  "language_info": {
   "codemirror_mode": {
    "name": "ipython",
    "version": 3
   },
   "file_extension": ".py",
   "mimetype": "text/x-python",
   "name": "python",
   "nbconvert_exporter": "python",
   "pygments_lexer": "ipython3",
   "version": "3.10.8"
  }
 },
 "nbformat": 4,
 "nbformat_minor": 5
}
