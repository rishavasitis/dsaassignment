{
 "cells": [
  {
   "cell_type": "markdown",
   "id": "0ec9c593-45c6-47b0-844a-c66637a9f893",
   "metadata": {},
   "source": [
    "Given two strings s1 and s2, return *the lowest **ASCII** sum of deleted characters to make two strings equal*.\n",
    "\n",
    "**Example 1:**\n",
    "\n",
    "**Input:** s1 = \"sea\", s2 = \"eat\"\n",
    "\n",
    "**Output:** 231"
   ]
  },
  {
   "cell_type": "code",
   "execution_count": 1,
   "id": "41f8be3b-276f-45a0-aed3-c69ac239271e",
   "metadata": {},
   "outputs": [
    {
     "name": "stdout",
     "output_type": "stream",
     "text": [
      "231\n"
     ]
    }
   ],
   "source": [
    "def minimumDeleteSum(s1, s2):\n",
    "    m, n = len(s1), len(s2)\n",
    "\n",
    "   \n",
    "    dp = [[0] * (n + 1) for _ in range(m + 1)]\n",
    "\n",
    "\n",
    "    for i in range(1, m + 1):\n",
    "        dp[i][0] = dp[i - 1][0] + ord(s1[i - 1])\n",
    "    for j in range(1, n + 1):\n",
    "        dp[0][j] = dp[0][j - 1] + ord(s2[j - 1])\n",
    "    for i in range(1, m + 1):\n",
    "        for j in range(1, n + 1):\n",
    "            if s1[i - 1] == s2[j - 1]:\n",
    "                dp[i][j] = dp[i - 1][j - 1]\n",
    "            else:\n",
    "                dp[i][j] = min(dp[i - 1][j] + ord(s1[i - 1]), dp[i][j - 1] + ord(s2[j - 1]))\n",
    "\n",
    "   \n",
    "    return dp[m][n]\n",
    "\n",
    "# Example usage\n",
    "s1 = \"sea\"\n",
    "s2 = \"eat\"\n",
    "print(minimumDeleteSum(s1, s2))  \n"
   ]
  },
  {
   "cell_type": "code",
   "execution_count": null,
   "id": "0e0c5ff4-d160-44d3-a8a6-64a4892514d2",
   "metadata": {},
   "outputs": [],
   "source": []
  },
  {
   "cell_type": "markdown",
   "id": "f643e39b-fe0b-49c8-874c-4b44e4973448",
   "metadata": {},
   "source": [
    "<aside>\n",
    "💡 **Question 2**\n",
    "\n",
    "Given a string s containing only three types of characters: '(', ')' and '*', return true *if* s *is **valid***.\n",
    "\n",
    "The following rules define a **valid** string:\n",
    "\n",
    "- Any left parenthesis '(' must have a corresponding right parenthesis ')'.\n",
    "- Any right parenthesis ')' must have a corresponding left parenthesis '('.\n",
    "- Left parenthesis '(' must go before the corresponding right parenthesis ')'.\n",
    "- '*' could be treated as a single right parenthesis ')' or a single left parenthesis '(' or an empty string \"\".\n",
    "\n",
    "**Example 1:**\n",
    "\n",
    "**Input:** s = \"()\"\n",
    "\n",
    "**Output:**\n",
    "\n",
    "true\n",
    "\n",
    "</aside>"
   ]
  },
  {
   "cell_type": "code",
   "execution_count": 2,
   "id": "9ed1cdbe-5c4d-4250-9698-96a83668cb2a",
   "metadata": {},
   "outputs": [
    {
     "name": "stdout",
     "output_type": "stream",
     "text": [
      "True\n"
     ]
    }
   ],
   "source": [
    "def checkValidString(s):\n",
    "    stack = []\n",
    "    star_stack = []\n",
    "\n",
    "    for i, char in enumerate(s):\n",
    "        if char == '(':\n",
    "            stack.append(i)\n",
    "        elif char == '*':\n",
    "            star_stack.append(i)\n",
    "        else:\n",
    "            if stack:\n",
    "                stack.pop()\n",
    "            elif star_stack:\n",
    "                star_stack.pop()\n",
    "            else:\n",
    "                return False\n",
    "\n",
    "   \n",
    "    while stack and star_stack:\n",
    "        if stack[-1] < star_stack[-1]:\n",
    "            stack.pop()\n",
    "            star_stack.pop()\n",
    "        else:\n",
    "            return False\n",
    "\n",
    "    return len(stack) == 0\n",
    "\n",
    "# Example usage\n",
    "s = \"()\"\n",
    "print(checkValidString(s))  # Output: True\n"
   ]
  },
  {
   "cell_type": "code",
   "execution_count": null,
   "id": "e67eda47-2f00-4a11-8ace-700d05b6c1e9",
   "metadata": {},
   "outputs": [],
   "source": []
  },
  {
   "cell_type": "markdown",
   "id": "aad3a589-a0af-402d-8b26-9ddf1f40b37a",
   "metadata": {},
   "source": [
    "Given two strings word1 and word2, return *the minimum number of **steps** required to make* word1 *and* word2 *the same*.\n",
    "\n",
    "In one **step**, you can delete exactly one character in either string.\n",
    "\n",
    "**Example 1:**\n",
    "\n",
    "**Input:** word1 = \"sea\", word2 = \"eat\"\n",
    "\n",
    "**Output:** 2"
   ]
  },
  {
   "cell_type": "code",
   "execution_count": 3,
   "id": "45c8456d-1a06-44ad-916c-b2cce26aa01e",
   "metadata": {},
   "outputs": [
    {
     "name": "stdout",
     "output_type": "stream",
     "text": [
      "2\n"
     ]
    }
   ],
   "source": [
    "def minDistance(word1, word2):\n",
    "    m, n = len(word1), len(word2)\n",
    "\n",
    "  \n",
    "    dp = [[0] * (n + 1) for _ in range(m + 1)]\n",
    "\n",
    "    # Fill in the DP table\n",
    "    for i in range(1, m + 1):\n",
    "        dp[i][0] = dp[i - 1][0] + 1\n",
    "    for j in range(1, n + 1):\n",
    "        dp[0][j] = dp[0][j - 1] + 1\n",
    "    for i in range(1, m + 1):\n",
    "        for j in range(1, n + 1):\n",
    "            if word1[i - 1] == word2[j - 1]:\n",
    "                dp[i][j] = dp[i - 1][j - 1]\n",
    "            else:\n",
    "                dp[i][j] = min(dp[i - 1][j] + 1, dp[i][j - 1] + 1)\n",
    "\n",
    "    # Return the result\n",
    "    return dp[m][n]\n",
    "\n",
    "# Example usage\n",
    "word1 = \"sea\"\n",
    "word2 = \"eat\"\n",
    "print(minDistance(word1, word2))  \n"
   ]
  },
  {
   "cell_type": "code",
   "execution_count": null,
   "id": "64a570b0-0a5c-4a1d-98e3-c61e68d22714",
   "metadata": {},
   "outputs": [],
   "source": []
  },
  {
   "cell_type": "markdown",
   "id": "55e45f29-97b9-46aa-8835-c22b846e49b3",
   "metadata": {},
   "source": [
    "You need to construct a binary tree from a string consisting of parenthesis and integers.\n",
    "\n",
    "The whole input represents a binary tree. It contains an integer followed by zero, one or two pairs of parenthesis. The integer represents the root's value and a pair of parenthesis contains a child binary tree with the same structure.\n",
    "You always start to construct the **left** child node of the parent first if it exists.\n",
    "\n",
    "**Input:** s = \"4(2(3)(1))(6(5))\"\n",
    "\n",
    "**Output:** [4,2,6,3,1,5]"
   ]
  },
  {
   "cell_type": "code",
   "execution_count": 4,
   "id": "36951761-eab7-4523-9481-5afd847f2ab6",
   "metadata": {},
   "outputs": [
    {
     "name": "stdout",
     "output_type": "stream",
     "text": [
      "[3, 2, 1, 4, 5, 6]\n"
     ]
    }
   ],
   "source": [
    "class TreeNode:\n",
    "    def __init__(self, val=0, left=None, right=None):\n",
    "        self.val = val\n",
    "        self.left = left\n",
    "        self.right = right\n",
    "\n",
    "def str2tree(s):\n",
    "    def parse_tree(s, i):\n",
    "    \n",
    "        if i >= len(s) or s[i] == ')':\n",
    "            return None, i + 1\n",
    "\n",
    "       \n",
    "        j = i\n",
    "        while j < len(s) and s[j] not in ('(', ')'):\n",
    "            j += 1\n",
    "        val = int(s[i:j])\n",
    "\n",
    "        # Create the root node with the value\n",
    "        root = TreeNode(val)\n",
    "\n",
    "        # Check if there is a left child\n",
    "        if j < len(s) and s[j] == '(':\n",
    "            root.left, j = parse_tree(s, j + 1)\n",
    "\n",
    "        # Check if there is a right child\n",
    "        if j < len(s) and s[j] == '(':\n",
    "            root.right, j = parse_tree(s, j + 1)\n",
    "\n",
    "        return root, j + 1\n",
    "\n",
    "    # Call the recursive function to construct the tree\n",
    "    if not s:\n",
    "        return None\n",
    "    root, _ = parse_tree(s, 0)\n",
    "    return root\n",
    "\n",
    "def inorder_traversal(root):\n",
    "    result = []\n",
    "    def inorder(node):\n",
    "        if node:\n",
    "            inorder(node.left)\n",
    "            result.append(node.val)\n",
    "            inorder(node.right)\n",
    "    inorder(root)\n",
    "    return result\n",
    "\n",
    "# Example usage\n",
    "s = \"4(2(3)(1))(6(5))\"\n",
    "root = str2tree(s)\n",
    "result = inorder_traversal(root)\n",
    "print(result) \n"
   ]
  },
  {
   "cell_type": "code",
   "execution_count": null,
   "id": "98aae2f4-7b0b-4378-acea-e627b328dcab",
   "metadata": {},
   "outputs": [],
   "source": []
  },
  {
   "cell_type": "markdown",
   "id": "4cdbbbdd-9fa5-4232-b0be-90c31827bfd9",
   "metadata": {},
   "source": [
    "Given an array of characters chars, compress it using the following algorithm:\n",
    "\n",
    "Begin with an empty string s. For each group of **consecutive repeating characters** in chars:\n",
    "\n",
    "- If the group's length is 1, append the character to s.\n",
    "- Otherwise, append the character followed by the group's length.\n",
    "\n",
    "The compressed string s **should not be returned separately**, but instead, be stored **in the input character array chars**. Note that group lengths that are 10 or longer will be split into multiple characters in chars.\n",
    "\n",
    "After you are done **modifying the input array,** return *the new length of the array*.\n",
    "\n",
    "You must write an algorithm that uses only constant extra space.\n",
    "\n",
    "**Example 1:**\n",
    "\n",
    "**Input:** chars = [\"a\",\"a\",\"b\",\"b\",\"c\",\"c\",\"c\"]\n",
    "\n",
    "**Output:** Return 6, and the first 6 characters of the input array should be: [\"a\",\"2\",\"b\",\"2\",\"c\",\"3\"]"
   ]
  },
  {
   "cell_type": "code",
   "execution_count": 5,
   "id": "0a0e0755-a6be-424b-aaee-5293628bd470",
   "metadata": {},
   "outputs": [
    {
     "name": "stdout",
     "output_type": "stream",
     "text": [
      "6\n",
      "['a', '2', 'b', '2', 'c', '3']\n",
      "4\n",
      "['a', 'b', '1', '2']\n"
     ]
    }
   ],
   "source": [
    "def compress(chars):\n",
    "    write = 0  \n",
    "    count = 1\n",
    "\n",
    "    for i in range(1, len(chars) + 1):\n",
    "        if i < len(chars) and chars[i] == chars[i - 1]:\n",
    "            count += 1\n",
    "        else:\n",
    "            chars[write] = chars[i - 1]  \n",
    "\n",
    "            if count > 1:\n",
    "                count_str = str(count)\n",
    "                for j in range(len(count_str)):\n",
    "                    chars[write + j + 1] = count_str[j]  \n",
    "                write += len(count_str)\n",
    "\n",
    "            write += 1\n",
    "            count = 1\n",
    "\n",
    "    return write\n",
    "\n",
    "# Testing the function\n",
    "chars = [\"a\", \"a\", \"b\", \"b\", \"c\", \"c\", \"c\"]\n",
    "new_length = compress(chars)\n",
    "print(new_length) \n",
    "print(chars[:new_length])  \n",
    "\n",
    "chars = [\"a\", \"b\", \"b\", \"b\", \"b\", \"b\", \"b\", \"b\", \"b\", \"b\", \"b\", \"b\", \"b\"]\n",
    "new_length = compress(chars)\n",
    "print(new_length)\n",
    "print(chars[:new_length])  \n"
   ]
  },
  {
   "cell_type": "code",
   "execution_count": null,
   "id": "89082d82-2444-4c95-aa79-1e5573729cf8",
   "metadata": {},
   "outputs": [],
   "source": []
  },
  {
   "cell_type": "markdown",
   "id": "cb221e1c-71ce-4ce8-9d15-7ae68bdb1a84",
   "metadata": {},
   "source": [
    "Given two strings s and p, return *an array of all the start indices of* p*'s anagrams in* s. You may return the answer in **any order**.\n",
    "\n",
    "An **Anagram** is a word or phrase formed by rearranging the letters of a different word or phrase, typically using all the original letters exactly once.\n",
    "\n",
    "**Example 1:**\n",
    "\n",
    "**Input:** s = \"cbaebabacd\", p = \"abc\"\n",
    "\n",
    "**Output:** [0,6]\n",
    "\n",
    "**Explanation:**\n",
    "\n",
    "The substring with start index = 0 is \"cba\", which is an anagram of \"abc\".\n",
    "\n",
    "The substring with start index = 6 is \"bac\", which is an anagram of \"abc\"."
   ]
  },
  {
   "cell_type": "code",
   "execution_count": 6,
   "id": "e6bb6b3c-363f-4f54-ab78-768b547f67d8",
   "metadata": {},
   "outputs": [
    {
     "name": "stdout",
     "output_type": "stream",
     "text": [
      "[0, 6]\n",
      "[0, 1, 2]\n"
     ]
    }
   ],
   "source": [
    "from collections import Counter\n",
    "\n",
    "def findAnagrams(s, p):\n",
    "    result = []\n",
    "    p_counter = Counter(p)\n",
    "    window_counter = Counter(s[:len(p)])\n",
    "\n",
    "    if window_counter == p_counter:\n",
    "        result.append(0)\n",
    "\n",
    "    for i in range(1, len(s) - len(p) + 1):\n",
    "        if s[i - 1] in window_counter:\n",
    "            window_counter[s[i - 1]] -= 1\n",
    "            if window_counter[s[i - 1]] == 0:\n",
    "                del window_counter[s[i - 1]]\n",
    "\n",
    "        window_counter[s[i + len(p) - 1]] += 1\n",
    "\n",
    "        if window_counter == p_counter:\n",
    "            result.append(i)\n",
    "\n",
    "    return result\n",
    "\n",
    "# Testing the function\n",
    "s = \"cbaebabacd\"\n",
    "p = \"abc\"\n",
    "print(findAnagrams(s, p)) \n",
    "\n",
    "s = \"abab\"\n",
    "p = \"ab\"\n",
    "print(findAnagrams(s, p))  \n"
   ]
  },
  {
   "cell_type": "code",
   "execution_count": null,
   "id": "132f4b8a-a7e6-457c-b2ca-6cf6010149d4",
   "metadata": {},
   "outputs": [],
   "source": []
  },
  {
   "cell_type": "markdown",
   "id": "d5b7cfa3-69ce-4f7e-8709-50fcab699319",
   "metadata": {},
   "source": [
    "Given an encoded string, return its decoded string.\n",
    "\n",
    "The encoding rule is: k[encoded_string], where the encoded_string inside the square brackets is being repeated exactly k times. Note that k is guaranteed to be a positive integer.\n",
    "\n",
    "You may assume that the input string is always valid; there are no extra white spaces, square brackets are well-formed, etc. Furthermore, you may assume that the original data does not contain any digits and that digits are only for those repeat numbers, k. For example, there will not be input like 3a or 2[4].\n",
    "\n",
    "The test cases are generated so that the length of the output will never exceed 105.\n",
    "\n",
    "**Example 1:**\n",
    "\n",
    "**Input:** s = \"3[a]2[bc]\"\n",
    "\n",
    "**Output:** \"aaabcbc\""
   ]
  },
  {
   "cell_type": "code",
   "execution_count": 7,
   "id": "6a457e92-9950-4a68-9241-88676013feb3",
   "metadata": {},
   "outputs": [
    {
     "name": "stdout",
     "output_type": "stream",
     "text": [
      "aaabcbc\n"
     ]
    }
   ],
   "source": [
    "def decodeString(s):\n",
    "    stack = []\n",
    "    curr_str = ''\n",
    "    curr_num = 0\n",
    "\n",
    "    for char in s:\n",
    "        if char.isdigit():\n",
    "            curr_num = curr_num * 10 + int(char)\n",
    "        elif char == '[':\n",
    "            stack.append(curr_str)\n",
    "            stack.append(curr_num)\n",
    "            curr_str = ''\n",
    "            curr_num = 0\n",
    "        elif char == ']':\n",
    "            num = stack.pop()\n",
    "            prev_str = stack.pop()\n",
    "            curr_str = prev_str + num * curr_str\n",
    "        else:\n",
    "            curr_str += char\n",
    "\n",
    "    return curr_str\n",
    "\n",
    "# Testing the function\n",
    "s = \"3[a]2[bc]\"\n",
    "print(decodeString(s)) \n",
    "\n"
   ]
  },
  {
   "cell_type": "code",
   "execution_count": null,
   "id": "4d361d52-0b00-418a-83c8-99b7decdadd1",
   "metadata": {},
   "outputs": [],
   "source": []
  },
  {
   "cell_type": "markdown",
   "id": "384b8ed1-20aa-4b73-ab8f-11027b06addb",
   "metadata": {},
   "source": [
    "Given two strings s and goal, return true *if you can swap two letters in* s *so the result is equal to* goal*, otherwise, return* false*.*\n",
    "\n",
    "Swapping letters is defined as taking two indices i and j (0-indexed) such that i != j and swapping the characters at s[i] and s[j].\n",
    "\n",
    "- For example, swapping at indices 0 and 2 in \"abcd\" results in \"cbad\".\n",
    "\n",
    "**Example 1:**\n",
    "\n",
    "**Input:** s = \"ab\", goal = \"ba\"\n",
    "\n",
    "**Output:** true\n",
    "\n",
    "**Explanation:** You can swap s[0] = 'a' and s[1] = 'b' to get \"ba\", which is equal to goal."
   ]
  },
  {
   "cell_type": "code",
   "execution_count": 8,
   "id": "a2afae4c-b1f1-4a22-ab5e-93353904884a",
   "metadata": {},
   "outputs": [
    {
     "name": "stdout",
     "output_type": "stream",
     "text": [
      "True\n",
      "False\n",
      "True\n",
      "False\n"
     ]
    }
   ],
   "source": [
    "def buddyStrings(s, goal):\n",
    "    if len(s) != len(goal) or set(s) != set(goal):\n",
    "        return False\n",
    "\n",
    "    if s == goal and len(set(s)) < len(s):\n",
    "        return True\n",
    "\n",
    "    indices = []\n",
    "\n",
    "    for i in range(len(s)):\n",
    "        if s[i] != goal[i]:\n",
    "            indices.append(i)\n",
    "\n",
    "    return len(indices) == 2 and s[indices[0]] == goal[indices[1]] and s[indices[1]] == goal[indices[0]]\n",
    "\n",
    "# Testing the function\n",
    "s = \"ab\"\n",
    "goal = \"ba\"\n",
    "print(buddyStrings(s, goal))  \n",
    "\n",
    "s = \"ab\"\n",
    "goal = \"ab\"\n",
    "print(buddyStrings(s, goal)) \n",
    "\n",
    "s = \"aa\"\n",
    "goal = \"aa\"\n",
    "print(buddyStrings(s, goal))  \n",
    "\n",
    "s = \"abcd\"\n",
    "goal = \"dcba\"\n",
    "print(buddyStrings(s, goal)) \n"
   ]
  },
  {
   "cell_type": "code",
   "execution_count": null,
   "id": "3f4161c1-ffd1-4ba4-8c18-11772a0cef17",
   "metadata": {},
   "outputs": [],
   "source": []
  }
 ],
 "metadata": {
  "kernelspec": {
   "display_name": "Python 3 (ipykernel)",
   "language": "python",
   "name": "python3"
  },
  "language_info": {
   "codemirror_mode": {
    "name": "ipython",
    "version": 3
   },
   "file_extension": ".py",
   "mimetype": "text/x-python",
   "name": "python",
   "nbconvert_exporter": "python",
   "pygments_lexer": "ipython3",
   "version": "3.10.8"
  }
 },
 "nbformat": 4,
 "nbformat_minor": 5
}
